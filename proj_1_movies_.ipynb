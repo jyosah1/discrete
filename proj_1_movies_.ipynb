{
  "nbformat": 4,
  "nbformat_minor": 0,
  "metadata": {
    "colab": {
      "name": "proj_1_movies_.ipynb",
      "provenance": [],
      "collapsed_sections": [],
      "authorship_tag": "ABX9TyMkvsIoIzofNGkZ8wghx61V",
      "include_colab_link": true
    },
    "kernelspec": {
      "name": "python3",
      "display_name": "Python 3"
    },
    "language_info": {
      "name": "python"
    }
  },
  "cells": [
    {
      "cell_type": "markdown",
      "metadata": {
        "id": "view-in-github",
        "colab_type": "text"
      },
      "source": [
        "<a href=\"https://colab.research.google.com/github/kcsai/discrete/blob/main/proj_1_movies_.ipynb\" target=\"_parent\"><img src=\"https://colab.research.google.com/assets/colab-badge.svg\" alt=\"Open In Colab\"/></a>"
      ]
    },
    {
      "cell_type": "markdown",
      "metadata": {
        "id": "0hDVSq1GM1nq"
      },
      "source": [
        "# Project 1 # : CPSMA 3133 [Dr. Jacob's](https://github.com/nurfnick) Discrete Mathematics \n",
        "## Movies In Sets\n",
        "\n",
        "### [Sailesh Kc](https://github.com/kcsai/discrete) | 267255"
      ]
    },
    {
      "cell_type": "markdown",
      "metadata": {
        "id": "EEw6gpZjOzTT"
      },
      "source": [
        "##1 Sets"
      ]
    },
    {
      "cell_type": "markdown",
      "metadata": {
        "id": "S8MTEtrQPzI1"
      },
      "source": [
        "First of all I will be fetching the list of movies. I will be using raw json data from the url,  https://raw.githubusercontent.com/erik-sytnyk/movies-list/master/db.json, to get list of popular movies and append each movies into its genre. If a movie has multiple genre it will be appended to each array. Since we only need three sets, I will be picking three arrays that has the most number of movies."
      ]
    },
    {
      "cell_type": "code",
      "metadata": {
        "id": "igqsEy4R0n5z"
      },
      "source": [
        "import requests\n",
        "import json\n",
        "import array\n",
        "import math\n",
        "\n",
        "universalMoviesList = []\n",
        "genresDict = {\n",
        "    \"Comedy\": [],\n",
        "    \"Fantasy\": [],\n",
        "    \"Crime\": [],\n",
        "    \"Drama\": [],\n",
        "    \"Music\": [],\n",
        "    \"Adventure\": [],\n",
        "    \"History\": [],\n",
        "    \"Thriller\": [],\n",
        "    \"Animation\": [],\n",
        "    \"Family\": [],\n",
        "    \"Mystery\": [],\n",
        "    \"Biography\": [],\n",
        "    \"Action\": [],\n",
        "    \"Film-Noir\": [],\n",
        "    \"Romance\": [],\n",
        "    \"Sci-Fi\": [],\n",
        "    \"War\": [],\n",
        "    \"Western\": [],\n",
        "    \"Horror\": [],\n",
        "    \"Musical\": [],\n",
        "    \"Sport\": [],\n",
        "}\n",
        "\n",
        "# Fetching the movies data from the url and getting the json object\n",
        "moviesApiRequest = requests.get('https://raw.githubusercontent.com/erik-sytnyk/movies-list/master/db.json')\n",
        "moviesJSON = moviesApiRequest.json()\n",
        "\n",
        "# Looping through the json object to append into relevant genre arrays\n",
        "for movie in moviesJSON['movies']:\n",
        "    universalMoviesList.append(movie['title'])\n",
        "    for genre in movie['genres']:\n",
        "        genresDict[genre].append(movie['title'])\n",
        "\n",
        "# Sorting genres with most movies\n",
        "genreList = sorted(genresDict, key=lambda l: (len(l), l))\n",
        "\n",
        "# Union of the movies from top three genres\n",
        "unionMovieListAB = list(set().union(genresDict[genreList[0]], genresDict[genreList[1]]))\n",
        "unionMovieListBC = list(set().union(genresDict[genreList[1]], genresDict[genreList[2]]))\n",
        "unionMovieListAC = list(set().union(genresDict[genreList[0]], genresDict[genreList[2]]))\n",
        "\n",
        "print(unionMovieListAB)\n",
        "print(unionMovieListBC)\n",
        "print(unionMovieListAC)\n",
        "\n",
        "# Intersection of the movies from top three genres\n",
        "intersectMovieListAB = list(set(genresDict[genreList[0]]) & set(genresDict[genreList[1]]))\n",
        "intersectMovieListBC = list(set(genresDict[genreList[1]]) & set(genresDict[genreList[2]]))\n",
        "intersectMovieListAC = list(set(genresDict[genreList[0]]) & set(genresDict[genreList[2]]))\n",
        "\n",
        "print(intersectMovieListAB)\n",
        "print(intersectMovieListBC)\n",
        "print(intersectMovieListAC)\n",
        "\n",
        "# Compliments of the movies from top three genres\n",
        "complimentMovieListA = list(set(genresDict[genreList[0]]) - set(genresDict[genreList[1]]) - set(genresDict[genreList[2]]))\n",
        "complimentMovieListB = list(set(genresDict[genreList[1]]) - set(genresDict[genreList[0]]) - set(genresDict[genreList[2]]))\n",
        "complimentMovieListC = list(set(genresDict[genreList[2]]) - set(genresDict[genreList[1]]) - set(genresDict[genreList[0]]))\n",
        "\n",
        "print(complimentMovieListA)\n",
        "print(complimentMovieListB)\n",
        "print(complimentMovieListC)\n",
        "\n",
        "def computePowerSet(setData):\n",
        "    print(setData[0])\n",
        "    setSize = len(setData)\n",
        "    powerSize = (int) (math.pow(2, setSize))\n",
        "    counter = 0\n",
        "    j = 0\n",
        "     \n",
        "    for counter in range(0, powerSize):\n",
        "        for j in range(0, setSize):\n",
        "            if((counter & (1 << j)) > 0):\n",
        "                print(setData[j], \", \", end = \"\")\n",
        "        print(\"\\n\")\n",
        " \n",
        "\n",
        "computePowerSet(list(genresDict[genreList[0]]))"
      ],
      "execution_count": null,
      "outputs": []
    },
    {
      "cell_type": "markdown",
      "metadata": {
        "id": "qmbhc9ue9ZQh"
      },
      "source": [
        "\n",
        "##2 Functions\n"
      ]
    },
    {
      "cell_type": "markdown",
      "metadata": {
        "id": "W1t14xJ-9kA9"
      },
      "source": [
        "I will be using math and matplotlib libraries for this part. I am using f(x) = 1/sqrt(x) as my function. I will be looping through 1 to 100 and calculate the f(x) and inverse of f(x) and append the values in two different arrays. Then finally I will plot the value from those arrays"
      ]
    },
    {
      "cell_type": "code",
      "metadata": {
        "id": "U32m-Rau-CCK"
      },
      "source": [
        "from math import *\n",
        "import matplotlib.pyplot as plt\n",
        "\n",
        "# defining empty array to store domain, range and inverse range values.\n",
        "domainVal = []\n",
        "rangeVal = []\n",
        "inverseRangeVal = []\n",
        "\n",
        "# function for calculation function\n",
        "def calculateSomething(anyVal):\n",
        "    calculatedVal = 1/(anyVal ** 2)\n",
        "    return calculatedVal\n",
        "\n",
        "# function for calculating inverse of the function\n",
        "def caculateInverseOfSomething(anyVal):\n",
        "    calculatedVal = 1/sqrt(anyVal)\n",
        "    return calculatedVal\n",
        "\n",
        "# loop to go through the loop of predefined range\n",
        "for i in range(1, 100):\n",
        "    domainVal.append(i)\n",
        "    rangeVal.append(calculateSomething(i))\n",
        "    inverseRangeVal.append(caculateInverseOfSomething(i))\n",
        "\n",
        "# function to check if a function is one to one from the given array of domain and range\n",
        "def isOnetoOneFunction(domain, range):\n",
        "    uniqueValues = set(range)\n",
        "    if (len(uniqueValues) == len(domain)):\n",
        "        print(\"Is one to one function\")\n",
        "        return True\n",
        "    print(\"Not one to one function\")\n",
        "    return False\n",
        "\n",
        "# function to check if a function is onto from the given array of domain and range\n",
        "def isOntoFunction(domain, range):\n",
        "    uniqueValues = set(range)\n",
        "    if (len(uniqueValues) <= len(domain)):\n",
        "        print(\"Is onto function\")\n",
        "        return True\n",
        "    print(\"Not onto function\")\n",
        "    return False\n",
        "\n",
        "def isBijective(domain, range):\n",
        "    if (isOntoFunction(domain, range) and isOnetoOneFunction(domain, range)):\n",
        "        print (\"Is Bijective\")\n",
        "        return True\n",
        "    print(\"Not Bijective\")\n",
        "    return False\n",
        "\n",
        "# Checking if the function is one to one, onto and bijective\n",
        "isBijective(domainVal, rangeVal)\n",
        "\n",
        "# plotting the range and inverse of the range\\\n",
        "plt.plot(domainVal, rangeVal)\n",
        "plt.plot(domainVal, inverseRangeVal)\n",
        "plt.xlabel('domain')\n",
        "plt.ylabel('range')\n",
        "\n",
        "plt.show()"
      ],
      "execution_count": null,
      "outputs": []
    },
    {
      "cell_type": "markdown",
      "metadata": {
        "id": "aQkYLkgn-Osr"
      },
      "source": [
        "##3 Relations"
      ]
    },
    {
      "cell_type": "markdown",
      "metadata": {
        "id": "AFvDuyoaAAro"
      },
      "source": [
        "For this part I will be taking codes from part 1. I have a predefined dictionary of genres where the movies fetched from a raw json file will be filtered and appended. "
      ]
    },
    {
      "cell_type": "code",
      "metadata": {
        "id": "DaB9OqmjRTZy"
      },
      "source": [
        "import requests\n",
        "\n",
        "universalMoviesList = []\n",
        "\n",
        "genresDict = {\n",
        "    \"Comedy\": [],\n",
        "    \"Fantasy\": [],\n",
        "    \"Crime\": [],\n",
        "    \"Drama\": [],\n",
        "    \"Music\": [],\n",
        "    \"Adventure\": [],\n",
        "    \"History\": [],\n",
        "    \"Thriller\": [],\n",
        "    \"Animation\": [],\n",
        "    \"Family\": [],\n",
        "    \"Mystery\": [],\n",
        "    \"Biography\": [],\n",
        "    \"Action\": [],\n",
        "    \"Film-Noir\": [],\n",
        "    \"Romance\": [],\n",
        "    \"Sci-Fi\": [],\n",
        "    \"War\": [],\n",
        "    \"Western\": [],\n",
        "    \"Horror\": [],\n",
        "    \"Musical\": [],\n",
        "    \"Sport\": [],\n",
        "}\n",
        "\n",
        "# Fetching the movies data from the url and getting the json object\n",
        "moviesApiRequest = requests.get('https://raw.githubusercontent.com/erik-sytnyk/movies-list/master/db.json')\n",
        "moviesJSON = moviesApiRequest.json()\n",
        "\n",
        "# Looping through the json object to append into relevant genre arrays\n",
        "for movie in moviesJSON['movies']:\n",
        "    universalMoviesList.append(movie['title'])\n",
        "    for genre in movie['genres']:\n",
        "        genresDict[genre].append(movie['title'])\n",
        "\n",
        "\n",
        "# Creating 3 list of sets from index 0 to 2\n",
        "setA = list(genresDict.values())[0]\n",
        "setB = list(genresDict.values())[1]\n",
        "setC = list(genresDict.values())[2]\n",
        "\n",
        "setAB = []\n",
        "setAC = []\n",
        "\n",
        "# Looping through setA and setB to create relation map\n",
        "for movieA in setA:\n",
        "    for movieB in setB:\n",
        "        setAB.append((movieA, movieB))\n",
        "\n",
        "# Looping through setA and setC to create relation map\n",
        "for movieA in setA:\n",
        "    for movieB in setC:\n",
        "        setAC.append((movieA, movieB))\n",
        "\n",
        "# Check if two sets are function\n",
        "def isFunction(R):\n",
        "    for a in R:\n",
        "        count = 0\n",
        "        for b in R:\n",
        "            if (a[0] == b[0]):\n",
        "                count += 1\n",
        "                if (count > 1):\n",
        "                    print(\"Not a function\")\n",
        "                    return False\n",
        "        print(\"A function\")\n",
        "        return True\n",
        "\n",
        "\n",
        "# Function to check if the set is Reflexive\n",
        "def isReflexive(R, A):\n",
        "    for a in A:\n",
        "        if (a, a) not in R:\n",
        "            print(\"Not reflexive\")\n",
        "            return False\n",
        "    print(\"Reflexive\")\n",
        "    return True\n",
        "\n",
        "# Function to check if the set is Symmetric\n",
        "def isSymmetric(R, A):\n",
        "    for a, b in R:\n",
        "        if (b, a) not in R:\n",
        "            print(\"Not Symmetric\")  \n",
        "            return False\n",
        "    print(\"Symmetric\")            \n",
        "    return True\n",
        "\n",
        "# Function to check if the set is Transitive\n",
        "def isTransitive(R, A):\n",
        "    for a in A:\n",
        "        for b in A:\n",
        "            if (a, b) in R:\n",
        "                for c in A:\n",
        "                    if (b, c) in R and (a, c) not in R:\n",
        "                        print(\"Not Transitive\")\n",
        "                        return False\n",
        "    print(\"Transitive\")\n",
        "    return True\n",
        "\n",
        "# Checking if a set is function\n",
        "isFunction(setAB)\n",
        "isFunction(setAC)\n",
        "\n",
        "# Checking reflexive, symmetric and transitive for setAB\n",
        "isReflexive(setAB, setA)\n",
        "isSymmetric(setAB, setA)\n",
        "isTransitive(setAB, setA)\n",
        "\n",
        "# Checking reflexive, symmetric and transitive for setAC\n",
        "isReflexive(setAC, setA)\n",
        "isSymmetric(setAC, setA)\n",
        "isTransitive(setAC, setA)"
      ],
      "execution_count": null,
      "outputs": []
    },
    {
      "cell_type": "markdown",
      "metadata": {
        "id": "zU1qDa5Z3Ems"
      },
      "source": [
        "#4 Conculsion"
      ]
    },
    {
      "cell_type": "markdown",
      "metadata": {
        "id": "2c4zUSIq3OLP"
      },
      "source": [
        "Since I was using a dynamic list for part 1 and 3, I had to programatically identify relations. It would have a lot easier to identify the relation on a paper but now it should work for any list.\n",
        "\n",
        "The inverse of the function was hardcoded instead of generate programatically.I looped through 1 to 100 to generate range for the function and inverse of the function. I used the matplotlib library to graph the date produced from the two functions. "
      ]
    }
  ]
}